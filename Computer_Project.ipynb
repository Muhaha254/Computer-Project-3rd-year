{
  "cells": [
    {
      "cell_type": "code",
      "execution_count": null,
      "metadata": {
        "id": "_vUOFZFHohpZ"
      },
      "outputs": [],
      "source": [
        "#import libraries\n",
        "import math\n",
        "import yfinance as yf\n",
        "import pandas_datareader as web\n",
        "import numpy as np\n",
        "import pandas as pd\n",
        "from sklearn.preprocessing import MinMaxScaler\n",
        "from keras.models import Sequential\n",
        "from keras.layers import Dense, LSTM\n",
        "import matplotlib.pyplot as plt\n",
        "plt.style.use('fivethirtyeight')\n",
        "\n",
        "\n",
        "#In th case that you run across an errors run the following\n",
        "#!pip install yfinance\n",
        "#!pip install flask\n",
        "#!pip install --upgrade pandas\n",
        "#!pip install --upgrade pandas-datareader"
      ]
    },
    {
      "cell_type": "code",
      "execution_count": null,
      "metadata": {
        "colab": {
          "base_uri": "https://localhost:8080/",
          "height": 455
        },
        "id": "Q1luv2oPgiCv",
        "outputId": "7f2c1368-33be-4a9d-c5b1-31972077afa8"
      },
      "outputs": [
        {
          "output_type": "execute_result",
          "data": {
            "text/plain": [
              "                                 Open        High         Low       Close  \\\n",
              "Date                                                                        \n",
              "2015-01-02 00:00:00-05:00   25.028560   25.039795   24.120800   24.565693   \n",
              "2015-01-05 00:00:00-05:00   24.332020   24.412910   23.684904   23.873646   \n",
              "2015-01-06 00:00:00-05:00   23.938801   24.138777   23.509636   23.875887   \n",
              "2015-01-07 00:00:00-05:00   24.087098   24.311791   23.974752   24.210680   \n",
              "2015-01-08 00:00:00-05:00   24.543225   25.199328   24.424136   25.140907   \n",
              "...                               ...         ...         ...         ...   \n",
              "2023-03-27 00:00:00-04:00  159.940002  160.770004  157.869995  158.279999   \n",
              "2023-03-28 00:00:00-04:00  157.970001  158.490005  155.979996  157.649994   \n",
              "2023-03-29 00:00:00-04:00  159.369995  161.050003  159.350006  160.770004   \n",
              "2023-03-30 00:00:00-04:00  161.529999  162.470001  161.270004  162.360001   \n",
              "2023-03-31 00:00:00-04:00  162.440002  165.000000  161.910004  164.899994   \n",
              "\n",
              "                              Volume  Dividends  Stock Splits  \n",
              "Date                                                           \n",
              "2015-01-02 00:00:00-05:00  212818400        0.0           0.0  \n",
              "2015-01-05 00:00:00-05:00  257142000        0.0           0.0  \n",
              "2015-01-06 00:00:00-05:00  263188400        0.0           0.0  \n",
              "2015-01-07 00:00:00-05:00  160423600        0.0           0.0  \n",
              "2015-01-08 00:00:00-05:00  237458000        0.0           0.0  \n",
              "...                              ...        ...           ...  \n",
              "2023-03-27 00:00:00-04:00   52390300        0.0           0.0  \n",
              "2023-03-28 00:00:00-04:00   45992200        0.0           0.0  \n",
              "2023-03-29 00:00:00-04:00   51305700        0.0           0.0  \n",
              "2023-03-30 00:00:00-04:00   49501700        0.0           0.0  \n",
              "2023-03-31 00:00:00-04:00   68694700        0.0           0.0  \n",
              "\n",
              "[2076 rows x 7 columns]"
            ],
            "text/html": [
              "\n",
              "  <div id=\"df-d1302025-c14f-48f7-889b-62d8d22b721b\">\n",
              "    <div class=\"colab-df-container\">\n",
              "      <div>\n",
              "<style scoped>\n",
              "    .dataframe tbody tr th:only-of-type {\n",
              "        vertical-align: middle;\n",
              "    }\n",
              "\n",
              "    .dataframe tbody tr th {\n",
              "        vertical-align: top;\n",
              "    }\n",
              "\n",
              "    .dataframe thead th {\n",
              "        text-align: right;\n",
              "    }\n",
              "</style>\n",
              "<table border=\"1\" class=\"dataframe\">\n",
              "  <thead>\n",
              "    <tr style=\"text-align: right;\">\n",
              "      <th></th>\n",
              "      <th>Open</th>\n",
              "      <th>High</th>\n",
              "      <th>Low</th>\n",
              "      <th>Close</th>\n",
              "      <th>Volume</th>\n",
              "      <th>Dividends</th>\n",
              "      <th>Stock Splits</th>\n",
              "    </tr>\n",
              "    <tr>\n",
              "      <th>Date</th>\n",
              "      <th></th>\n",
              "      <th></th>\n",
              "      <th></th>\n",
              "      <th></th>\n",
              "      <th></th>\n",
              "      <th></th>\n",
              "      <th></th>\n",
              "    </tr>\n",
              "  </thead>\n",
              "  <tbody>\n",
              "    <tr>\n",
              "      <th>2015-01-02 00:00:00-05:00</th>\n",
              "      <td>25.028560</td>\n",
              "      <td>25.039795</td>\n",
              "      <td>24.120800</td>\n",
              "      <td>24.565693</td>\n",
              "      <td>212818400</td>\n",
              "      <td>0.0</td>\n",
              "      <td>0.0</td>\n",
              "    </tr>\n",
              "    <tr>\n",
              "      <th>2015-01-05 00:00:00-05:00</th>\n",
              "      <td>24.332020</td>\n",
              "      <td>24.412910</td>\n",
              "      <td>23.684904</td>\n",
              "      <td>23.873646</td>\n",
              "      <td>257142000</td>\n",
              "      <td>0.0</td>\n",
              "      <td>0.0</td>\n",
              "    </tr>\n",
              "    <tr>\n",
              "      <th>2015-01-06 00:00:00-05:00</th>\n",
              "      <td>23.938801</td>\n",
              "      <td>24.138777</td>\n",
              "      <td>23.509636</td>\n",
              "      <td>23.875887</td>\n",
              "      <td>263188400</td>\n",
              "      <td>0.0</td>\n",
              "      <td>0.0</td>\n",
              "    </tr>\n",
              "    <tr>\n",
              "      <th>2015-01-07 00:00:00-05:00</th>\n",
              "      <td>24.087098</td>\n",
              "      <td>24.311791</td>\n",
              "      <td>23.974752</td>\n",
              "      <td>24.210680</td>\n",
              "      <td>160423600</td>\n",
              "      <td>0.0</td>\n",
              "      <td>0.0</td>\n",
              "    </tr>\n",
              "    <tr>\n",
              "      <th>2015-01-08 00:00:00-05:00</th>\n",
              "      <td>24.543225</td>\n",
              "      <td>25.199328</td>\n",
              "      <td>24.424136</td>\n",
              "      <td>25.140907</td>\n",
              "      <td>237458000</td>\n",
              "      <td>0.0</td>\n",
              "      <td>0.0</td>\n",
              "    </tr>\n",
              "    <tr>\n",
              "      <th>...</th>\n",
              "      <td>...</td>\n",
              "      <td>...</td>\n",
              "      <td>...</td>\n",
              "      <td>...</td>\n",
              "      <td>...</td>\n",
              "      <td>...</td>\n",
              "      <td>...</td>\n",
              "    </tr>\n",
              "    <tr>\n",
              "      <th>2023-03-27 00:00:00-04:00</th>\n",
              "      <td>159.940002</td>\n",
              "      <td>160.770004</td>\n",
              "      <td>157.869995</td>\n",
              "      <td>158.279999</td>\n",
              "      <td>52390300</td>\n",
              "      <td>0.0</td>\n",
              "      <td>0.0</td>\n",
              "    </tr>\n",
              "    <tr>\n",
              "      <th>2023-03-28 00:00:00-04:00</th>\n",
              "      <td>157.970001</td>\n",
              "      <td>158.490005</td>\n",
              "      <td>155.979996</td>\n",
              "      <td>157.649994</td>\n",
              "      <td>45992200</td>\n",
              "      <td>0.0</td>\n",
              "      <td>0.0</td>\n",
              "    </tr>\n",
              "    <tr>\n",
              "      <th>2023-03-29 00:00:00-04:00</th>\n",
              "      <td>159.369995</td>\n",
              "      <td>161.050003</td>\n",
              "      <td>159.350006</td>\n",
              "      <td>160.770004</td>\n",
              "      <td>51305700</td>\n",
              "      <td>0.0</td>\n",
              "      <td>0.0</td>\n",
              "    </tr>\n",
              "    <tr>\n",
              "      <th>2023-03-30 00:00:00-04:00</th>\n",
              "      <td>161.529999</td>\n",
              "      <td>162.470001</td>\n",
              "      <td>161.270004</td>\n",
              "      <td>162.360001</td>\n",
              "      <td>49501700</td>\n",
              "      <td>0.0</td>\n",
              "      <td>0.0</td>\n",
              "    </tr>\n",
              "    <tr>\n",
              "      <th>2023-03-31 00:00:00-04:00</th>\n",
              "      <td>162.440002</td>\n",
              "      <td>165.000000</td>\n",
              "      <td>161.910004</td>\n",
              "      <td>164.899994</td>\n",
              "      <td>68694700</td>\n",
              "      <td>0.0</td>\n",
              "      <td>0.0</td>\n",
              "    </tr>\n",
              "  </tbody>\n",
              "</table>\n",
              "<p>2076 rows × 7 columns</p>\n",
              "</div>\n",
              "      <button class=\"colab-df-convert\" onclick=\"convertToInteractive('df-d1302025-c14f-48f7-889b-62d8d22b721b')\"\n",
              "              title=\"Convert this dataframe to an interactive table.\"\n",
              "              style=\"display:none;\">\n",
              "        \n",
              "  <svg xmlns=\"http://www.w3.org/2000/svg\" height=\"24px\"viewBox=\"0 0 24 24\"\n",
              "       width=\"24px\">\n",
              "    <path d=\"M0 0h24v24H0V0z\" fill=\"none\"/>\n",
              "    <path d=\"M18.56 5.44l.94 2.06.94-2.06 2.06-.94-2.06-.94-.94-2.06-.94 2.06-2.06.94zm-11 1L8.5 8.5l.94-2.06 2.06-.94-2.06-.94L8.5 2.5l-.94 2.06-2.06.94zm10 10l.94 2.06.94-2.06 2.06-.94-2.06-.94-.94-2.06-.94 2.06-2.06.94z\"/><path d=\"M17.41 7.96l-1.37-1.37c-.4-.4-.92-.59-1.43-.59-.52 0-1.04.2-1.43.59L10.3 9.45l-7.72 7.72c-.78.78-.78 2.05 0 2.83L4 21.41c.39.39.9.59 1.41.59.51 0 1.02-.2 1.41-.59l7.78-7.78 2.81-2.81c.8-.78.8-2.07 0-2.86zM5.41 20L4 18.59l7.72-7.72 1.47 1.35L5.41 20z\"/>\n",
              "  </svg>\n",
              "      </button>\n",
              "      \n",
              "  <style>\n",
              "    .colab-df-container {\n",
              "      display:flex;\n",
              "      flex-wrap:wrap;\n",
              "      gap: 12px;\n",
              "    }\n",
              "\n",
              "    .colab-df-convert {\n",
              "      background-color: #E8F0FE;\n",
              "      border: none;\n",
              "      border-radius: 50%;\n",
              "      cursor: pointer;\n",
              "      display: none;\n",
              "      fill: #1967D2;\n",
              "      height: 32px;\n",
              "      padding: 0 0 0 0;\n",
              "      width: 32px;\n",
              "    }\n",
              "\n",
              "    .colab-df-convert:hover {\n",
              "      background-color: #E2EBFA;\n",
              "      box-shadow: 0px 1px 2px rgba(60, 64, 67, 0.3), 0px 1px 3px 1px rgba(60, 64, 67, 0.15);\n",
              "      fill: #174EA6;\n",
              "    }\n",
              "\n",
              "    [theme=dark] .colab-df-convert {\n",
              "      background-color: #3B4455;\n",
              "      fill: #D2E3FC;\n",
              "    }\n",
              "\n",
              "    [theme=dark] .colab-df-convert:hover {\n",
              "      background-color: #434B5C;\n",
              "      box-shadow: 0px 1px 3px 1px rgba(0, 0, 0, 0.15);\n",
              "      filter: drop-shadow(0px 1px 2px rgba(0, 0, 0, 0.3));\n",
              "      fill: #FFFFFF;\n",
              "    }\n",
              "  </style>\n",
              "\n",
              "      <script>\n",
              "        const buttonEl =\n",
              "          document.querySelector('#df-d1302025-c14f-48f7-889b-62d8d22b721b button.colab-df-convert');\n",
              "        buttonEl.style.display =\n",
              "          google.colab.kernel.accessAllowed ? 'block' : 'none';\n",
              "\n",
              "        async function convertToInteractive(key) {\n",
              "          const element = document.querySelector('#df-d1302025-c14f-48f7-889b-62d8d22b721b');\n",
              "          const dataTable =\n",
              "            await google.colab.kernel.invokeFunction('convertToInteractive',\n",
              "                                                     [key], {});\n",
              "          if (!dataTable) return;\n",
              "\n",
              "          const docLinkHtml = 'Like what you see? Visit the ' +\n",
              "            '<a target=\"_blank\" href=https://colab.research.google.com/notebooks/data_table.ipynb>data table notebook</a>'\n",
              "            + ' to learn more about interactive tables.';\n",
              "          element.innerHTML = '';\n",
              "          dataTable['output_type'] = 'display_data';\n",
              "          await google.colab.output.renderOutput(dataTable, element);\n",
              "          const docLink = document.createElement('div');\n",
              "          docLink.innerHTML = docLinkHtml;\n",
              "          element.appendChild(docLink);\n",
              "        }\n",
              "      </script>\n",
              "    </div>\n",
              "  </div>\n",
              "  "
            ]
          },
          "metadata": {},
          "execution_count": 8
        }
      ],
      "source": [
        "#Get the stock quote\n",
        "\n",
        "#df = web.DataReader('AAPL', data_source='yahoo', start='2012-01-01', end='2021-12-17')\n",
        "#Show the data\t\n",
        "df = yf.Ticker(\"AAPL\")\n",
        "df= df.history(period=\"max\")\n",
        "df= df.loc[\"2015-01-01\":].copy()\n",
        "df"
      ]
    },
    {
      "cell_type": "code",
      "execution_count": null,
      "metadata": {
        "colab": {
          "base_uri": "https://localhost:8080/"
        },
        "id": "1cecVn34-P-r",
        "outputId": "064ace04-3cf2-4830-891c-7d7bf4cb200f"
      },
      "outputs": [
        {
          "output_type": "execute_result",
          "data": {
            "text/plain": [
              "(2076, 7)"
            ]
          },
          "metadata": {},
          "execution_count": 9
        }
      ],
      "source": [
        "#Get numer of rows and columns in the dataset\n",
        "df.shape"
      ]
    },
    {
      "cell_type": "code",
      "execution_count": null,
      "metadata": {
        "colab": {
          "base_uri": "https://localhost:8080/",
          "height": 566
        },
        "id": "IzWien0g-9jy",
        "outputId": "85c3d2da-deaa-4401-8d5d-1f1ca28727ed"
      },
      "outputs": [
        {
          "output_type": "execute_result",
          "data": {
            "text/plain": [
              "Text(0, 0.5, 'Close Price USD$')"
            ]
          },
          "metadata": {},
          "execution_count": 10
        },
        {
          "output_type": "display_data",
          "data": {
            "text/plain": [
              "<Figure size 1600x800 with 1 Axes>"
            ],
            "image/png": "[encoded data removed]"
          },
          "metadata": {}
        }
      ],
      "source": [
        "#Visualizing the closing dates\n",
        "plt.figure(figsize=(16,8))\n",
        "plt.title('Closing Prices')\n",
        "plt.plot(df['Close'])\n",
        "plt.xlabel('Date', fontsize= 18 )\n",
        "plt.ylabel('Close Price USD$', fontsize= 18 )"
      ]
    },
    {
      "cell_type": "code",
      "execution_count": null,
      "metadata": {
        "colab": {
          "base_uri": "https://localhost:8080/"
        },
        "id": "R6PaueSwAQK-",
        "outputId": "a4de9704-f329-4b8c-9725-2621fae1c24a"
      },
      "outputs": [
        {
          "output_type": "execute_result",
          "data": {
            "text/plain": [
              "1661"
            ]
          },
          "metadata": {},
          "execution_count": 11
        }
      ],
      "source": [
        "#Creating a new data frame with only the close column\n",
        "data= df.filter(['Close'])\n",
        "#convert the dataframe to a numpy array\n",
        "dataset= data.values\n",
        "# Get number of rows tp train the LSTM model\n",
        "#training the model with 80% of the dataset and rounding it off\n",
        "training_data_len = math.ceil(len(dataset) * 0.80)\n",
        "\n",
        "\n",
        "training_data_len"
      ]
    },
    {
      "cell_type": "code",
      "execution_count": null,
      "metadata": {
        "colab": {
          "base_uri": "https://localhost:8080/"
        },
        "id": "lldiJsU0B1Dz",
        "outputId": "c031befe-bc6e-402f-baed-f25cbadc2d61"
      },
      "outputs": [
        {
          "output_type": "execute_result",
          "data": {
            "text/plain": [
              "array([[0.02304537],\n",
              "       [0.01871468],\n",
              "       [0.01872871],\n",
              "       ...,\n",
              "       [0.87538332],\n",
              "       [0.88533318],\n",
              "       [0.90122793]])"
            ]
          },
          "metadata": {},
          "execution_count": 12
        }
      ],
      "source": [
        "#Scale the data\n",
        "scaler= MinMaxScaler(feature_range=(0,1))\n",
        "scaled_data = scaler.fit_transform(dataset)\n",
        "\n",
        "scaled_data"
      ]
    },
    {
      "cell_type": "code",
      "execution_count": null,
      "metadata": {
        "colab": {
          "base_uri": "https://localhost:8080/"
        },
        "id": "DbgSxdQoCfuJ",
        "outputId": "ff37aadb-a52c-429b-bad8-e91b39c693f2"
      },
      "outputs": [
        {
          "output_type": "stream",
          "name": "stdout",
          "text": [
            "[array([0.02304537, 0.01871468, 0.01872871, 0.02082377, 0.02664494,\n",
            "       0.02681371, 0.02293291, 0.02429681, 0.02370624, 0.01951615,\n",
            "       0.01834906, 0.02218767, 0.02335472, 0.02736211, 0.0281776 ,\n",
            "       0.02834632, 0.02277822, 0.03145376, 0.03650157, 0.034055  ,\n",
            "       0.03612195, 0.03615008, 0.0374296 , 0.03862951, 0.03720378,\n",
            "       0.03831896, 0.04156569, 0.04560294, 0.04783333, 0.04870854,\n",
            "       0.04976728, 0.05102364, 0.05064248, 0.05212469, 0.05706545,\n",
            "       0.05589377, 0.05112243, 0.0534234 , 0.0506566 , 0.0515459 ,\n",
            "       0.05192707, 0.0507695 , 0.04776277, 0.04803097, 0.04879325,\n",
            "       0.04508067, 0.04187629, 0.04499597, 0.04378195, 0.04570173,\n",
            "       0.04865208, 0.05067072, 0.04930145, 0.04704285, 0.04889209,\n",
            "       0.04815802, 0.04348549, 0.04469952, 0.04330197, 0.04770631])]\n",
            "[0.044967730824421376]\n",
            "\n",
            "[array([0.02304537, 0.01871468, 0.01872871, 0.02082377, 0.02664494,\n",
            "       0.02681371, 0.02293291, 0.02429681, 0.02370624, 0.01951615,\n",
            "       0.01834906, 0.02218767, 0.02335472, 0.02736211, 0.0281776 ,\n",
            "       0.02834632, 0.02277822, 0.03145376, 0.03650157, 0.034055  ,\n",
            "       0.03612195, 0.03615008, 0.0374296 , 0.03862951, 0.03720378,\n",
            "       0.03831896, 0.04156569, 0.04560294, 0.04783333, 0.04870854,\n",
            "       0.04976728, 0.05102364, 0.05064248, 0.05212469, 0.05706545,\n",
            "       0.05589377, 0.05112243, 0.0534234 , 0.0506566 , 0.0515459 ,\n",
            "       0.05192707, 0.0507695 , 0.04776277, 0.04803097, 0.04879325,\n",
            "       0.04508067, 0.04187629, 0.04499597, 0.04378195, 0.04570173,\n",
            "       0.04865208, 0.05067072, 0.04930145, 0.04704285, 0.04889209,\n",
            "       0.04815802, 0.04348549, 0.04469952, 0.04330197, 0.04770631]), array([0.01871468, 0.01872871, 0.02082377, 0.02664494, 0.02681371,\n",
            "       0.02293291, 0.02429681, 0.02370624, 0.01951615, 0.01834906,\n",
            "       0.02218767, 0.02335472, 0.02736211, 0.0281776 , 0.02834632,\n",
            "       0.02277822, 0.03145376, 0.03650157, 0.034055  , 0.03612195,\n",
            "       0.03615008, 0.0374296 , 0.03862951, 0.03720378, 0.03831896,\n",
            "       0.04156569, 0.04560294, 0.04783333, 0.04870854, 0.04976728,\n",
            "       0.05102364, 0.05064248, 0.05212469, 0.05706545, 0.05589377,\n",
            "       0.05112243, 0.0534234 , 0.0506566 , 0.0515459 , 0.05192707,\n",
            "       0.0507695 , 0.04776277, 0.04803097, 0.04879325, 0.04508067,\n",
            "       0.04187629, 0.04499597, 0.04378195, 0.04570173, 0.04865208,\n",
            "       0.05067072, 0.04930145, 0.04704285, 0.04889209, 0.04815802,\n",
            "       0.04348549, 0.04469952, 0.04330197, 0.04770631, 0.04496773])]\n",
            "[0.044967730824421376, 0.04471360598657054]\n",
            "\n"
          ]
        }
      ],
      "source": [
        "#Create the training data set\n",
        "#Create the scaled training data set\n",
        "\n",
        "train_data= scaled_data[0: training_data_len, :]\n",
        "#Split the data into x_train and y_train datasets\n",
        "x_train = []\n",
        "y_train = []\n",
        "\n",
        "for i in range(60, len(train_data)):\n",
        "  x_train.append(train_data[i-60: i, 0])\n",
        "  y_train.append(train_data[i, 0])\n",
        "  if i<= 61:\n",
        "    print(x_train)\n",
        "    print(y_train)\n",
        "    print()\n"
      ]
    },
    {
      "cell_type": "code",
      "execution_count": null,
      "metadata": {
        "id": "-ILH-7espIV4"
      },
      "outputs": [],
      "source": [
        "#Convert x_train and y_train to numpy arrays\n",
        "x_train= np.array(x_train) \n",
        "y_train= np.array(y_train)"
      ]
    },
    {
      "cell_type": "code",
      "execution_count": null,
      "metadata": {
        "colab": {
          "base_uri": "https://localhost:8080/"
        },
        "id": "99nlFkmswbMe",
        "outputId": "fca1abf2-4a43-492c-bb24-4cad3c90dbcc"
      },
      "outputs": [
        {
          "output_type": "execute_result",
          "data": {
            "text/plain": [
              "(1601, 60, 1)"
            ]
          },
          "metadata": {},
          "execution_count": 15
        }
      ],
      "source": [
        "#Reshape the data\n",
        "x_train = np.reshape(x_train, (x_train.shape[0], x_train.shape[1], 1 ))\n",
        "x_train.shape"
      ]
    },
    {
      "cell_type": "code",
      "execution_count": null,
      "metadata": {
        "id": "FszHSQpuxKMZ"
      },
      "outputs": [],
      "source": [
        "#Building The LSTM Model.    \n",
        "model = Sequential()\n",
        "model.add(LSTM(50, return_sequences=True, input_shape = (x_train.shape[1], 1)))\n",
        "model.add(LSTM(50, return_sequences=False))\n",
        "model.add(Dense(25))\n",
        "model.add(Dense(1))"
      ]
    },
    {
      "cell_type": "code",
      "execution_count": null,
      "metadata": {
        "id": "HKlgxy3Kx9zG"
      },
      "outputs": [],
      "source": [
        "#compile the model\n",
        "model.compile(optimizer='adam', loss='mean_squared_error')\n",
        " #The optimizer improves on the loss function where as the loss function is used to measure how well the mdel did on training"
      ]
    },
    {
      "cell_type": "code",
      "execution_count": null,
      "metadata": {
        "colab": {
          "base_uri": "https://localhost:8080/"
        },
        "id": "770HX7ObywDB",
        "outputId": "6f9bd29e-ac80-4c32-9c58-0c66e96e1ec8"
      },
      "outputs": [
        {
          "output_type": "stream",
          "name": "stdout",
          "text": [
            "1601/1601 [==============================] - 55s 32ms/step - loss: 9.7097e-04\n"
          ]
        },
        {
          "output_type": "execute_result",
          "data": {
            "text/plain": [
              "<keras.callbacks.History at 0x7f92e40d24f0>"
            ]
          },
          "metadata": {},
          "execution_count": 18
        }
      ],
      "source": [
        "#Train the model\n",
        "model.fit(x_train, y_train, batch_size=1, epochs=1)"
      ]
    },
    {
      "cell_type": "code",
      "execution_count": null,
      "metadata": {
        "id": "dTVvMskkzZfx"
      },
      "outputs": [],
      "source": [
        "#Create the testing data set\n",
        "#Create a new array containing scaled values from index 1543 to 2504\n",
        "test_data =scaled_data[training_data_len - 60: , : ]\n",
        "#Create the data sets x_tests % y_tests\n",
        "x_test = []\n",
        "y_test = dataset[training_data_len: ,: ]\n",
        "for i in range(60, len(test_data)):\n",
        "  x_test.append(test_data[i-60: i, 0])\n"
      ]
    },
    {
      "cell_type": "code",
      "source": [
        "#from flask_ngrok import run_with_ngrok\n",
        "#from flask import Flask, render_template, request\n",
        "#app=Flask(__name__)\n",
        "#run_with_ngrok (app)\n",
        "#@app.route(\"/\",methods=['GET', 'POST'])\n",
        "#def index():\n",
        "   # result = None\n",
        "    #if request.method == 'POST':\n",
        "        # Get the user input from the form\n",
        "     #   user_input = request.form['user-input']\n",
        "        # Call your function with the user input\n",
        "      #  result = valid\n",
        "    # Render the template with the form and result\n",
        "    #eturn render_template('index.html', result=result)\n",
        "\n",
        "# Run the Flask app\n",
        "#app.run()"
      ],
      "metadata": {
        "id": "defqsrPgHazP"
      },
      "execution_count": null,
      "outputs": []
    },
    {
      "cell_type": "code",
      "execution_count": null,
      "metadata": {
        "colab": {
          "base_uri": "https://localhost:8080/"
        },
        "id": "uj1BgTm17RmI",
        "outputId": "c9af64c0-0d55-4923-9d34-3f0df00096d6"
      },
      "outputs": [
        {
          "output_type": "stream",
          "name": "stdout",
          "text": [
            "1/1 [==============================] - 0s 27ms/step\n",
            "[[164.14742]]\n"
          ]
        }
      ],
      "source": [
        "#Get the quote\n",
        "#apple_quote =web.DataReader('AAPL', data_source='yahoo', start='2012-01-01', end='2021-12-17')\n",
        "apple_quote=yf.Ticker(\"AAPL\")\n",
        "apple_quote=apple_quote.history(period=\"max\")\n",
        "#loc method used to take data after 2015\n",
        "apple_quote = apple_quote.loc[\"2015-01-01\":].copy()\n",
        "#create new data frame\n",
        "new_df= apple_quote.filter(['Close'])\n",
        "#Get the last 60 day closing price values and convert the dataframe to an array\n",
        "last_60_days= new_df[-60:].values\n",
        "#scale data to be values btn 0 & 1\n",
        "last_60_days_scaled = scaler.transform(last_60_days)\n",
        "#Create emty list\n",
        "X_test=[]\n",
        "#Append the past 60 days to \n",
        "X_test.append(last_60_days_scaled) \n",
        "#Convert  the x_test to a numpy array\n",
        "X_test = np.array(X_test)\n",
        "#reshape data to 3 dimensions\n",
        "X_test = np.reshape(X_test, (X_test.shape[0], X_test.shape[1], 1))\n",
        "#Get predicted scaled price\n",
        "pred_price= model.predict(X_test)\n",
        "#undo scaling\n",
        "pred_price =  scaler.inverse_transform(pred_price)\n",
        "print(pred_price) "
      ]
    },
    {
      "cell_type": "code",
      "execution_count": null,
      "metadata": {
        "id": "CX-ptDsp0xle"
      },
      "outputs": [],
      "source": [
        "#Convert the data to a numpy array\n",
        "x_test = np.array(x_test)"
      ]
    },
    {
      "cell_type": "code",
      "execution_count": null,
      "metadata": {
        "id": "ODsepv9E1H0H"
      },
      "outputs": [],
      "source": [
        "#Reshape the data\n",
        "x_test = np.reshape(x_test, (x_test.shape[0], x_test.shape[1], 1))"
      ]
    },
    {
      "cell_type": "code",
      "execution_count": null,
      "metadata": {
        "colab": {
          "base_uri": "https://localhost:8080/"
        },
        "id": "l5yu3zL_1j37",
        "outputId": "dfb18adf-6140-4a78-eb0c-a8cf9eef60d5"
      },
      "outputs": [
        {
          "output_type": "stream",
          "name": "stdout",
          "text": [
            "67/67 [==============================] - 1s 19ms/step\n"
          ]
        }
      ],
      "source": [
        "#models predicted price values\n",
        "predictions = model.predict(x_test)\n",
        "predictions = scaler.inverse_transform(predictions)"
      ]
    },
    {
      "cell_type": "code",
      "execution_count": null,
      "metadata": {
        "colab": {
          "base_uri": "https://localhost:8080/"
        },
        "id": "llP73N7k2D-Z",
        "outputId": "f9b2b396-a54a-4057-ac25-ba30aeece7fd"
      },
      "outputs": [
        {
          "output_type": "execute_result",
          "data": {
            "text/plain": [
              "9.069159980341128"
            ]
          },
          "metadata": {},
          "execution_count": 34
        }
      ],
      "source": [
        "# Get the root mean square error (RMSE)\n",
        "rmse = np.sqrt(np.mean( predictions - y_test)**2)\n",
        "rmse"
      ]
    },
    {
      "cell_type": "code",
      "execution_count": null,
      "metadata": {
        "colab": {
          "base_uri": "https://localhost:8080/",
          "height": 566
        },
        "id": "aUEGL3M82_tl",
        "outputId": "9aad06f9-c14e-4264-e9bf-6cad66d096f0"
      },
      "outputs": [
        {
          "output_type": "stream",
          "name": "stderr",
          "text": [
            "<ipython-input-35-c6ca2ce5b566>:4: SettingWithCopyWarning: \n",
            "A value is trying to be set on a copy of a slice from a DataFrame.\n",
            "Try using .loc[row_indexer,col_indexer] = value instead\n",
            "\n",
            "See the caveats in the documentation: https://pandas.pydata.org/pandas-docs/stable/user_guide/indexing.html#returning-a-view-versus-a-copy\n",
            "  valid['Predictions']= predictions\n"
          ]
        },
        {
          "output_type": "display_data",
          "data": {
            "text/plain": [
              "<Figure size 1600x800 with 1 Axes>"
            ],
            "image/png": "[encoded data removed]"
          },
          "metadata": {}
        }
      ],
      "source": [
        "#Plot the data\n",
        "train = data[0: training_data_len]\n",
        "valid = data[training_data_len:]\n",
        "valid['Predictions']= predictions\n",
        "#Visualize the data\n",
        "plt.figure(figsize=(16,8))\n",
        "plt.title('Model')\n",
        "plt.xlabel('Date', fontsize=18)\n",
        "plt.ylabel('Close price USD ($)', fontsize=10)\n",
        "plt.plot(train['Close'])\n",
        "plt.plot(valid[['Close','Predictions']])\n",
        "plt.legend(['Train','Val','Predictions'], loc='lower right')\n",
        "plt.show()"
      ]
    },
    {
      "cell_type": "code",
      "execution_count": null,
      "metadata": {
        "colab": {
          "base_uri": "https://localhost:8080/",
          "height": 829
        },
        "id": "JpluyQUD7DPD",
        "outputId": "21e0a5e9-e371-442a-bfec-b80c653b64a8"
      },
      "outputs": [
        {
          "output_type": "execute_result",
          "data": {
            "text/plain": [
              "                                Close  Predictions\n",
              "Date                                              \n",
              "2014-10-10 00:00:00-04:00   22.535616    21.760483\n",
              "2014-10-13 00:00:00-04:00   22.329792    21.811701\n",
              "2014-10-14 00:00:00-04:00   22.092649    21.804518\n",
              "2014-10-15 00:00:00-04:00   21.821939    21.732405\n",
              "2014-10-16 00:00:00-04:00   21.535570    21.601242\n",
              "...                               ...          ...\n",
              "2023-03-27 00:00:00-04:00  158.279999   129.103134\n",
              "2023-03-28 00:00:00-04:00  157.649994   129.158981\n",
              "2023-03-29 00:00:00-04:00  160.770004   128.994827\n",
              "2023-03-30 00:00:00-04:00  162.360001   129.307800\n",
              "2023-03-31 00:00:00-04:00  164.899994   129.908600\n",
              "\n",
              "[2133 rows x 2 columns]"
            ],
            "text/html": [
              "\n",
              "  <div id=\"df-ffd6c1cb-5b4e-47b2-89b6-4ebe01b3c3ac\">\n",
              "    <div class=\"colab-df-container\">\n",
              "      <div>\n",
              "<style scoped>\n",
              "    .dataframe tbody tr th:only-of-type {\n",
              "        vertical-align: middle;\n",
              "    }\n",
              "\n",
              "    .dataframe tbody tr th {\n",
              "        vertical-align: top;\n",
              "    }\n",
              "\n",
              "    .dataframe thead th {\n",
              "        text-align: right;\n",
              "    }\n",
              "</style>\n",
              "<table border=\"1\" class=\"dataframe\">\n",
              "  <thead>\n",
              "    <tr style=\"text-align: right;\">\n",
              "      <th></th>\n",
              "      <th>Close</th>\n",
              "      <th>Predictions</th>\n",
              "    </tr>\n",
              "    <tr>\n",
              "      <th>Date</th>\n",
              "      <th></th>\n",
              "      <th></th>\n",
              "    </tr>\n",
              "  </thead>\n",
              "  <tbody>\n",
              "    <tr>\n",
              "      <th>2014-10-10 00:00:00-04:00</th>\n",
              "      <td>22.535616</td>\n",
              "      <td>21.760483</td>\n",
              "    </tr>\n",
              "    <tr>\n",
              "      <th>2014-10-13 00:00:00-04:00</th>\n",
              "      <td>22.329792</td>\n",
              "      <td>21.811701</td>\n",
              "    </tr>\n",
              "    <tr>\n",
              "      <th>2014-10-14 00:00:00-04:00</th>\n",
              "      <td>22.092649</td>\n",
              "      <td>21.804518</td>\n",
              "    </tr>\n",
              "    <tr>\n",
              "      <th>2014-10-15 00:00:00-04:00</th>\n",
              "      <td>21.821939</td>\n",
              "      <td>21.732405</td>\n",
              "    </tr>\n",
              "    <tr>\n",
              "      <th>2014-10-16 00:00:00-04:00</th>\n",
              "      <td>21.535570</td>\n",
              "      <td>21.601242</td>\n",
              "    </tr>\n",
              "    <tr>\n",
              "      <th>...</th>\n",
              "      <td>...</td>\n",
              "      <td>...</td>\n",
              "    </tr>\n",
              "    <tr>\n",
              "      <th>2023-03-27 00:00:00-04:00</th>\n",
              "      <td>158.279999</td>\n",
              "      <td>129.103134</td>\n",
              "    </tr>\n",
              "    <tr>\n",
              "      <th>2023-03-28 00:00:00-04:00</th>\n",
              "      <td>157.649994</td>\n",
              "      <td>129.158981</td>\n",
              "    </tr>\n",
              "    <tr>\n",
              "      <th>2023-03-29 00:00:00-04:00</th>\n",
              "      <td>160.770004</td>\n",
              "      <td>128.994827</td>\n",
              "    </tr>\n",
              "    <tr>\n",
              "      <th>2023-03-30 00:00:00-04:00</th>\n",
              "      <td>162.360001</td>\n",
              "      <td>129.307800</td>\n",
              "    </tr>\n",
              "    <tr>\n",
              "      <th>2023-03-31 00:00:00-04:00</th>\n",
              "      <td>164.899994</td>\n",
              "      <td>129.908600</td>\n",
              "    </tr>\n",
              "  </tbody>\n",
              "</table>\n",
              "<p>2133 rows × 2 columns</p>\n",
              "</div>\n",
              "      <button class=\"colab-df-convert\" onclick=\"convertToInteractive('df-ffd6c1cb-5b4e-47b2-89b6-4ebe01b3c3ac')\"\n",
              "              title=\"Convert this dataframe to an interactive table.\"\n",
              "              style=\"display:none;\">\n",
              "        \n",
              "  <svg xmlns=\"http://www.w3.org/2000/svg\" height=\"24px\"viewBox=\"0 0 24 24\"\n",
              "       width=\"24px\">\n",
              "    <path d=\"M0 0h24v24H0V0z\" fill=\"none\"/>\n",
              "    <path d=\"M18.56 5.44l.94 2.06.94-2.06 2.06-.94-2.06-.94-.94-2.06-.94 2.06-2.06.94zm-11 1L8.5 8.5l.94-2.06 2.06-.94-2.06-.94L8.5 2.5l-.94 2.06-2.06.94zm10 10l.94 2.06.94-2.06 2.06-.94-2.06-.94-.94-2.06-.94 2.06-2.06.94z\"/><path d=\"M17.41 7.96l-1.37-1.37c-.4-.4-.92-.59-1.43-.59-.52 0-1.04.2-1.43.59L10.3 9.45l-7.72 7.72c-.78.78-.78 2.05 0 2.83L4 21.41c.39.39.9.59 1.41.59.51 0 1.02-.2 1.41-.59l7.78-7.78 2.81-2.81c.8-.78.8-2.07 0-2.86zM5.41 20L4 18.59l7.72-7.72 1.47 1.35L5.41 20z\"/>\n",
              "  </svg>\n",
              "      </button>\n",
              "      \n",
              "  <style>\n",
              "    .colab-df-container {\n",
              "      display:flex;\n",
              "      flex-wrap:wrap;\n",
              "      gap: 12px;\n",
              "    }\n",
              "\n",
              "    .colab-df-convert {\n",
              "      background-color: #E8F0FE;\n",
              "      border: none;\n",
              "      border-radius: 50%;\n",
              "      cursor: pointer;\n",
              "      display: none;\n",
              "      fill: #1967D2;\n",
              "      height: 32px;\n",
              "      padding: 0 0 0 0;\n",
              "      width: 32px;\n",
              "    }\n",
              "\n",
              "    .colab-df-convert:hover {\n",
              "      background-color: #E2EBFA;\n",
              "      box-shadow: 0px 1px 2px rgba(60, 64, 67, 0.3), 0px 1px 3px 1px rgba(60, 64, 67, 0.15);\n",
              "      fill: #174EA6;\n",
              "    }\n",
              "\n",
              "    [theme=dark] .colab-df-convert {\n",
              "      background-color: #3B4455;\n",
              "      fill: #D2E3FC;\n",
              "    }\n",
              "\n",
              "    [theme=dark] .colab-df-convert:hover {\n",
              "      background-color: #434B5C;\n",
              "      box-shadow: 0px 1px 3px 1px rgba(0, 0, 0, 0.15);\n",
              "      filter: drop-shadow(0px 1px 2px rgba(0, 0, 0, 0.3));\n",
              "      fill: #FFFFFF;\n",
              "    }\n",
              "  </style>\n",
              "\n",
              "      <script>\n",
              "        const buttonEl =\n",
              "          document.querySelector('#df-ffd6c1cb-5b4e-47b2-89b6-4ebe01b3c3ac button.colab-df-convert');\n",
              "        buttonEl.style.display =\n",
              "          google.colab.kernel.accessAllowed ? 'block' : 'none';\n",
              "\n",
              "        async function convertToInteractive(key) {\n",
              "          const element = document.querySelector('#df-ffd6c1cb-5b4e-47b2-89b6-4ebe01b3c3ac');\n",
              "          const dataTable =\n",
              "            await google.colab.kernel.invokeFunction('convertToInteractive',\n",
              "                                                     [key], {});\n",
              "          if (!dataTable) return;\n",
              "\n",
              "          const docLinkHtml = 'Like what you see? Visit the ' +\n",
              "            '<a target=\"_blank\" href=https://colab.research.google.com/notebooks/data_table.ipynb>data table notebook</a>'\n",
              "            + ' to learn more about interactive tables.';\n",
              "          element.innerHTML = '';\n",
              "          dataTable['output_type'] = 'display_data';\n",
              "          await google.colab.output.renderOutput(dataTable, element);\n",
              "          const docLink = document.createElement('div');\n",
              "          docLink.innerHTML = docLinkHtml;\n",
              "          element.appendChild(docLink);\n",
              "        }\n",
              "      </script>\n",
              "    </div>\n",
              "  </div>\n",
              "  "
            ]
          },
          "metadata": {},
          "execution_count": 36
        }
      ],
      "source": [
        "#Show actual closing prices\n",
        "valid"
      ]
    },
    {
      "cell_type": "code",
      "source": [
        "#!ngrok authtoken 24BG9WPMvrVfvYYnLpI4YmGSLF1_rDrYXzG9f1Z5UkdHXQGo"
      ],
      "metadata": {
        "colab": {
          "base_uri": "https://localhost:8080/"
        },
        "id": "VASpn0SL9-_C",
        "outputId": "36721be7-56e6-420a-b863-2b67903a2840"
      },
      "execution_count": null,
      "outputs": [
        {
          "output_type": "stream",
          "name": "stdout",
          "text": [
            "Authtoken saved to configuration file: /root/.ngrok2/ngrok.yml\n"
          ]
        }
      ]
    }
  ],
  "metadata": {
    "colab": {
      "provenance": []
    },
    "kernelspec": {
      "display_name": "Python 3",
      "name": "python3"
    },
    "language_info": {
      "name": "python"
    }
  },
  "nbformat": 4,
  "nbformat_minor": 0
}